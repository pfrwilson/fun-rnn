{
 "cells": [
  {
   "cell_type": "code",
   "execution_count": 4,
   "metadata": {},
   "outputs": [
    {
     "data": {
      "text/plain": [
       "Hello(a=1, b='hi')"
      ]
     },
     "execution_count": 4,
     "metadata": {},
     "output_type": "execute_result"
    }
   ],
   "source": [
    "from attr import dataclass\n",
    "from utils.registry import Registry\n",
    "\n",
    "registry = Registry()\n",
    "\n",
    "@registry.register()\n",
    "def do_something(): \n",
    "    return 'hello'\n",
    "\n",
    "@registry.register('hello')\n",
    "@dataclass\n",
    "class Hello: \n",
    "    a: int \n",
    "    b: str\n",
    "\n",
    "\n",
    "registry.get('hello')(1, 'hi')"
   ]
  },
  {
   "cell_type": "code",
   "execution_count": null,
   "metadata": {},
   "outputs": [],
   "source": []
  }
 ],
 "metadata": {
  "kernelspec": {
   "display_name": "ai",
   "language": "python",
   "name": "python3"
  },
  "language_info": {
   "codemirror_mode": {
    "name": "ipython",
    "version": 3
   },
   "file_extension": ".py",
   "mimetype": "text/x-python",
   "name": "python",
   "nbconvert_exporter": "python",
   "pygments_lexer": "ipython3",
   "version": "3.11.5"
  }
 },
 "nbformat": 4,
 "nbformat_minor": 2
}
